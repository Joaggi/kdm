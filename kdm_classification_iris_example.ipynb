{
 "cells": [
  {
   "cell_type": "code",
   "execution_count": 2,
   "metadata": {},
   "outputs": [],
   "source": [
    "from kdm.models import KDMSequentialJointClassModel\n",
    "import kdm\n",
    "from sklearn.model_selection import train_test_split\n",
    "from sklearn.datasets import make_moons\n",
    "import matplotlib.pyplot as plt\n",
    "import numpy as np\n",
    "from keras import metrics\n",
    "from keras import losses\n",
    "from keras import optimizers\n",
    "from keras.models import Model\n",
    "from keras.layers import Input, Dense\n",
    "import keras\n",
    "from pandas import read_csv, DataFrame\n",
    "import os\n",
    "os.environ[\"KERAS_BACKEND\"] = \"tensorflow\"\n"
   ]
  },
  {
   "cell_type": "code",
   "execution_count": 3,
   "metadata": {},
   "outputs": [],
   "source": [
    "df = read_csv('iris.csv')"
   ]
  },
  {
   "cell_type": "code",
   "execution_count": 4,
   "metadata": {},
   "outputs": [
    {
     "data": {
      "text/html": [
       "<div>\n",
       "<style scoped>\n",
       "    .dataframe tbody tr th:only-of-type {\n",
       "        vertical-align: middle;\n",
       "    }\n",
       "\n",
       "    .dataframe tbody tr th {\n",
       "        vertical-align: top;\n",
       "    }\n",
       "\n",
       "    .dataframe thead th {\n",
       "        text-align: right;\n",
       "    }\n",
       "</style>\n",
       "<table border=\"1\" class=\"dataframe\">\n",
       "  <thead>\n",
       "    <tr style=\"text-align: right;\">\n",
       "      <th></th>\n",
       "      <th>sepal length</th>\n",
       "      <th>sepal width</th>\n",
       "      <th>petal length</th>\n",
       "      <th>petal width</th>\n",
       "      <th>type</th>\n",
       "    </tr>\n",
       "  </thead>\n",
       "  <tbody>\n",
       "    <tr>\n",
       "      <th>0</th>\n",
       "      <td>5.1</td>\n",
       "      <td>3.5</td>\n",
       "      <td>1.4</td>\n",
       "      <td>0.2</td>\n",
       "      <td>Iris-setosa</td>\n",
       "    </tr>\n",
       "    <tr>\n",
       "      <th>1</th>\n",
       "      <td>4.9</td>\n",
       "      <td>3.0</td>\n",
       "      <td>1.4</td>\n",
       "      <td>0.2</td>\n",
       "      <td>Iris-setosa</td>\n",
       "    </tr>\n",
       "    <tr>\n",
       "      <th>2</th>\n",
       "      <td>4.7</td>\n",
       "      <td>3.2</td>\n",
       "      <td>1.3</td>\n",
       "      <td>0.2</td>\n",
       "      <td>Iris-setosa</td>\n",
       "    </tr>\n",
       "    <tr>\n",
       "      <th>3</th>\n",
       "      <td>4.6</td>\n",
       "      <td>3.1</td>\n",
       "      <td>1.5</td>\n",
       "      <td>0.2</td>\n",
       "      <td>Iris-setosa</td>\n",
       "    </tr>\n",
       "    <tr>\n",
       "      <th>4</th>\n",
       "      <td>5.0</td>\n",
       "      <td>3.6</td>\n",
       "      <td>1.4</td>\n",
       "      <td>0.2</td>\n",
       "      <td>Iris-setosa</td>\n",
       "    </tr>\n",
       "  </tbody>\n",
       "</table>\n",
       "</div>"
      ],
      "text/plain": [
       "   sepal length  sepal width  petal length  petal width         type\n",
       "0           5.1          3.5           1.4          0.2  Iris-setosa\n",
       "1           4.9          3.0           1.4          0.2  Iris-setosa\n",
       "2           4.7          3.2           1.3          0.2  Iris-setosa\n",
       "3           4.6          3.1           1.5          0.2  Iris-setosa\n",
       "4           5.0          3.6           1.4          0.2  Iris-setosa"
      ]
     },
     "execution_count": 4,
     "metadata": {},
     "output_type": "execute_result"
    }
   ],
   "source": [
    "df.head()"
   ]
  },
  {
   "cell_type": "code",
   "execution_count": 9,
   "metadata": {},
   "outputs": [],
   "source": [
    "df['type'] = df['type'].apply(lambda x: [1,0,0] if x == 'Iris-setosa' else [0,1,0] if x == 'Iris-versicolor' else [0,0,1])"
   ]
  },
  {
   "cell_type": "code",
   "execution_count": 11,
   "metadata": {},
   "outputs": [
    {
     "data": {
      "text/html": [
       "<div>\n",
       "<style scoped>\n",
       "    .dataframe tbody tr th:only-of-type {\n",
       "        vertical-align: middle;\n",
       "    }\n",
       "\n",
       "    .dataframe tbody tr th {\n",
       "        vertical-align: top;\n",
       "    }\n",
       "\n",
       "    .dataframe thead th {\n",
       "        text-align: right;\n",
       "    }\n",
       "</style>\n",
       "<table border=\"1\" class=\"dataframe\">\n",
       "  <thead>\n",
       "    <tr style=\"text-align: right;\">\n",
       "      <th></th>\n",
       "      <th>sepal length</th>\n",
       "      <th>sepal width</th>\n",
       "      <th>petal length</th>\n",
       "      <th>petal width</th>\n",
       "      <th>type</th>\n",
       "    </tr>\n",
       "  </thead>\n",
       "  <tbody>\n",
       "    <tr>\n",
       "      <th>145</th>\n",
       "      <td>6.7</td>\n",
       "      <td>3.0</td>\n",
       "      <td>5.2</td>\n",
       "      <td>2.3</td>\n",
       "      <td>[0, 0, 1]</td>\n",
       "    </tr>\n",
       "    <tr>\n",
       "      <th>146</th>\n",
       "      <td>6.3</td>\n",
       "      <td>2.5</td>\n",
       "      <td>5.0</td>\n",
       "      <td>1.9</td>\n",
       "      <td>[0, 0, 1]</td>\n",
       "    </tr>\n",
       "    <tr>\n",
       "      <th>147</th>\n",
       "      <td>6.5</td>\n",
       "      <td>3.0</td>\n",
       "      <td>5.2</td>\n",
       "      <td>2.0</td>\n",
       "      <td>[0, 0, 1]</td>\n",
       "    </tr>\n",
       "    <tr>\n",
       "      <th>148</th>\n",
       "      <td>6.2</td>\n",
       "      <td>3.4</td>\n",
       "      <td>5.4</td>\n",
       "      <td>2.3</td>\n",
       "      <td>[0, 0, 1]</td>\n",
       "    </tr>\n",
       "    <tr>\n",
       "      <th>149</th>\n",
       "      <td>5.9</td>\n",
       "      <td>3.0</td>\n",
       "      <td>5.1</td>\n",
       "      <td>1.8</td>\n",
       "      <td>[0, 0, 1]</td>\n",
       "    </tr>\n",
       "  </tbody>\n",
       "</table>\n",
       "</div>"
      ],
      "text/plain": [
       "     sepal length  sepal width  petal length  petal width       type\n",
       "145           6.7          3.0           5.2          2.3  [0, 0, 1]\n",
       "146           6.3          2.5           5.0          1.9  [0, 0, 1]\n",
       "147           6.5          3.0           5.2          2.0  [0, 0, 1]\n",
       "148           6.2          3.4           5.4          2.3  [0, 0, 1]\n",
       "149           5.9          3.0           5.1          1.8  [0, 0, 1]"
      ]
     },
     "execution_count": 11,
     "metadata": {},
     "output_type": "execute_result"
    }
   ],
   "source": [
    "df.tail()"
   ]
  },
  {
   "cell_type": "code",
   "execution_count": 23,
   "metadata": {},
   "outputs": [],
   "source": [
    "\n",
    "encoded_size = 4\n",
    "dim_y = 3\n",
    "encoder = keras.layers.Identity()\n",
    "n_comp = 150\n",
    "sequences = [\n",
    "    {\n",
    "        'type': 'merge'\n",
    "    }]\n",
    "kdm_model = KDMSequentialJointClassModel(encoded_size=encoded_size,\n",
    "                                         dim_y=dim_y,\n",
    "                                         encoder=encoder,\n",
    "                                         n_comp=n_comp,\n",
    "                                         sequences=sequences,\n",
    "                                         sigma=0.5)"
   ]
  },
  {
   "cell_type": "code",
   "execution_count": 24,
   "metadata": {},
   "outputs": [],
   "source": [
    "kdm_model.compile(optimizer=optimizers.Adam(learning_rate=5e-5),\n",
    "                  loss=losses.sparse_categorical_crossentropy,\n",
    "                  metrics=[metrics.sparse_categorical_accuracy])"
   ]
  },
  {
   "cell_type": "code",
   "execution_count": 52,
   "metadata": {},
   "outputs": [],
   "source": [
    "data = []\n",
    "for row in df.iterrows():\n",
    "    y = row[1]['type']\n",
    "    x = [row[1]['sepal length'], row[1]['sepal width'], row[1]['petal length'], row[1]['petal width']]\n",
    "    data.append((x, y))\n",
    "    "
   ]
  },
  {
   "cell_type": "code",
   "execution_count": 53,
   "metadata": {},
   "outputs": [
    {
     "data": {
      "text/plain": [
       "[([5.1, 3.5, 1.4, 0.2], [1, 0, 0]),\n",
       " ([4.9, 3.0, 1.4, 0.2], [1, 0, 0]),\n",
       " ([4.7, 3.2, 1.3, 0.2], [1, 0, 0]),\n",
       " ([4.6, 3.1, 1.5, 0.2], [1, 0, 0]),\n",
       " ([5.0, 3.6, 1.4, 0.2], [1, 0, 0]),\n",
       " ([5.4, 3.9, 1.7, 0.4], [1, 0, 0]),\n",
       " ([4.6, 3.4, 1.4, 0.3], [1, 0, 0]),\n",
       " ([5.0, 3.4, 1.5, 0.2], [1, 0, 0]),\n",
       " ([4.4, 2.9, 1.4, 0.2], [1, 0, 0]),\n",
       " ([4.9, 3.1, 1.5, 0.1], [1, 0, 0]),\n",
       " ([5.4, 3.7, 1.5, 0.2], [1, 0, 0]),\n",
       " ([4.8, 3.4, 1.6, 0.2], [1, 0, 0]),\n",
       " ([4.8, 3.0, 1.4, 0.1], [1, 0, 0]),\n",
       " ([4.3, 3.0, 1.1, 0.1], [1, 0, 0]),\n",
       " ([5.8, 4.0, 1.2, 0.2], [1, 0, 0]),\n",
       " ([5.7, 4.4, 1.5, 0.4], [1, 0, 0]),\n",
       " ([5.4, 3.9, 1.3, 0.4], [1, 0, 0]),\n",
       " ([5.1, 3.5, 1.4, 0.3], [1, 0, 0]),\n",
       " ([5.7, 3.8, 1.7, 0.3], [1, 0, 0]),\n",
       " ([5.1, 3.8, 1.5, 0.3], [1, 0, 0]),\n",
       " ([5.4, 3.4, 1.7, 0.2], [1, 0, 0]),\n",
       " ([5.1, 3.7, 1.5, 0.4], [1, 0, 0]),\n",
       " ([4.6, 3.6, 1.0, 0.2], [1, 0, 0]),\n",
       " ([5.1, 3.3, 1.7, 0.5], [1, 0, 0]),\n",
       " ([4.8, 3.4, 1.9, 0.2], [1, 0, 0]),\n",
       " ([5.0, 3.0, 1.6, 0.2], [1, 0, 0]),\n",
       " ([5.0, 3.4, 1.6, 0.4], [1, 0, 0]),\n",
       " ([5.2, 3.5, 1.5, 0.2], [1, 0, 0]),\n",
       " ([5.2, 3.4, 1.4, 0.2], [1, 0, 0]),\n",
       " ([4.7, 3.2, 1.6, 0.2], [1, 0, 0]),\n",
       " ([4.8, 3.1, 1.6, 0.2], [1, 0, 0]),\n",
       " ([5.4, 3.4, 1.5, 0.4], [1, 0, 0]),\n",
       " ([5.2, 4.1, 1.5, 0.1], [1, 0, 0]),\n",
       " ([5.5, 4.2, 1.4, 0.2], [1, 0, 0]),\n",
       " ([4.9, 3.1, 1.5, 0.1], [1, 0, 0]),\n",
       " ([5.0, 3.2, 1.2, 0.2], [1, 0, 0]),\n",
       " ([5.5, 3.5, 1.3, 0.2], [1, 0, 0]),\n",
       " ([4.9, 3.1, 1.5, 0.1], [1, 0, 0]),\n",
       " ([4.4, 3.0, 1.3, 0.2], [1, 0, 0]),\n",
       " ([5.1, 3.4, 1.5, 0.2], [1, 0, 0]),\n",
       " ([5.0, 3.5, 1.3, 0.3], [1, 0, 0]),\n",
       " ([4.5, 2.3, 1.3, 0.3], [1, 0, 0]),\n",
       " ([4.4, 3.2, 1.3, 0.2], [1, 0, 0]),\n",
       " ([5.0, 3.5, 1.6, 0.6], [1, 0, 0]),\n",
       " ([5.1, 3.8, 1.9, 0.4], [1, 0, 0]),\n",
       " ([4.8, 3.0, 1.4, 0.3], [1, 0, 0]),\n",
       " ([5.1, 3.8, 1.6, 0.2], [1, 0, 0]),\n",
       " ([4.6, 3.2, 1.4, 0.2], [1, 0, 0]),\n",
       " ([5.3, 3.7, 1.5, 0.2], [1, 0, 0]),\n",
       " ([5.0, 3.3, 1.4, 0.2], [1, 0, 0]),\n",
       " ([7.0, 3.2, 4.7, 1.4], [0, 1, 0]),\n",
       " ([6.4, 3.2, 4.5, 1.5], [0, 1, 0]),\n",
       " ([6.9, 3.1, 4.9, 1.5], [0, 1, 0]),\n",
       " ([5.5, 2.3, 4.0, 1.3], [0, 1, 0]),\n",
       " ([6.5, 2.8, 4.6, 1.5], [0, 1, 0]),\n",
       " ([5.7, 2.8, 4.5, 1.3], [0, 1, 0]),\n",
       " ([6.3, 3.3, 4.7, 1.6], [0, 1, 0]),\n",
       " ([4.9, 2.4, 3.3, 1.0], [0, 1, 0]),\n",
       " ([6.6, 2.9, 4.6, 1.3], [0, 1, 0]),\n",
       " ([5.2, 2.7, 3.9, 1.4], [0, 1, 0]),\n",
       " ([5.0, 2.0, 3.5, 1.0], [0, 1, 0]),\n",
       " ([5.9, 3.0, 4.2, 1.5], [0, 1, 0]),\n",
       " ([6.0, 2.2, 4.0, 1.0], [0, 1, 0]),\n",
       " ([6.1, 2.9, 4.7, 1.4], [0, 1, 0]),\n",
       " ([5.6, 2.9, 3.6, 1.3], [0, 1, 0]),\n",
       " ([6.7, 3.1, 4.4, 1.4], [0, 1, 0]),\n",
       " ([5.6, 3.0, 4.5, 1.5], [0, 1, 0]),\n",
       " ([5.8, 2.7, 4.1, 1.0], [0, 1, 0]),\n",
       " ([6.2, 2.2, 4.5, 1.5], [0, 1, 0]),\n",
       " ([5.6, 2.5, 3.9, 1.1], [0, 1, 0]),\n",
       " ([5.9, 3.2, 4.8, 1.8], [0, 1, 0]),\n",
       " ([6.1, 2.8, 4.0, 1.3], [0, 1, 0]),\n",
       " ([6.3, 2.5, 4.9, 1.5], [0, 1, 0]),\n",
       " ([6.1, 2.8, 4.7, 1.2], [0, 1, 0]),\n",
       " ([6.4, 2.9, 4.3, 1.3], [0, 1, 0]),\n",
       " ([6.6, 3.0, 4.4, 1.4], [0, 1, 0]),\n",
       " ([6.8, 2.8, 4.8, 1.4], [0, 1, 0]),\n",
       " ([6.7, 3.0, 5.0, 1.7], [0, 1, 0]),\n",
       " ([6.0, 2.9, 4.5, 1.5], [0, 1, 0]),\n",
       " ([5.7, 2.6, 3.5, 1.0], [0, 1, 0]),\n",
       " ([5.5, 2.4, 3.8, 1.1], [0, 1, 0]),\n",
       " ([5.5, 2.4, 3.7, 1.0], [0, 1, 0]),\n",
       " ([5.8, 2.7, 3.9, 1.2], [0, 1, 0]),\n",
       " ([6.0, 2.7, 5.1, 1.6], [0, 1, 0]),\n",
       " ([5.4, 3.0, 4.5, 1.5], [0, 1, 0]),\n",
       " ([6.0, 3.4, 4.5, 1.6], [0, 1, 0]),\n",
       " ([6.7, 3.1, 4.7, 1.5], [0, 1, 0]),\n",
       " ([6.3, 2.3, 4.4, 1.3], [0, 1, 0]),\n",
       " ([5.6, 3.0, 4.1, 1.3], [0, 1, 0]),\n",
       " ([5.5, 2.5, 4.0, 1.3], [0, 1, 0]),\n",
       " ([5.5, 2.6, 4.4, 1.2], [0, 1, 0]),\n",
       " ([6.1, 3.0, 4.6, 1.4], [0, 1, 0]),\n",
       " ([5.8, 2.6, 4.0, 1.2], [0, 1, 0]),\n",
       " ([5.0, 2.3, 3.3, 1.0], [0, 1, 0]),\n",
       " ([5.6, 2.7, 4.2, 1.3], [0, 1, 0]),\n",
       " ([5.7, 3.0, 4.2, 1.2], [0, 1, 0]),\n",
       " ([5.7, 2.9, 4.2, 1.3], [0, 1, 0]),\n",
       " ([6.2, 2.9, 4.3, 1.3], [0, 1, 0]),\n",
       " ([5.1, 2.5, 3.0, 1.1], [0, 1, 0]),\n",
       " ([5.7, 2.8, 4.1, 1.3], [0, 1, 0]),\n",
       " ([6.3, 3.3, 6.0, 2.5], [0, 0, 1]),\n",
       " ([5.8, 2.7, 5.1, 1.9], [0, 0, 1]),\n",
       " ([7.1, 3.0, 5.9, 2.1], [0, 0, 1]),\n",
       " ([6.3, 2.9, 5.6, 1.8], [0, 0, 1]),\n",
       " ([6.5, 3.0, 5.8, 2.2], [0, 0, 1]),\n",
       " ([7.6, 3.0, 6.6, 2.1], [0, 0, 1]),\n",
       " ([4.9, 2.5, 4.5, 1.7], [0, 0, 1]),\n",
       " ([7.3, 2.9, 6.3, 1.8], [0, 0, 1]),\n",
       " ([6.7, 2.5, 5.8, 1.8], [0, 0, 1]),\n",
       " ([7.2, 3.6, 6.1, 2.5], [0, 0, 1]),\n",
       " ([6.5, 3.2, 5.1, 2.0], [0, 0, 1]),\n",
       " ([6.4, 2.7, 5.3, 1.9], [0, 0, 1]),\n",
       " ([6.8, 3.0, 5.5, 2.1], [0, 0, 1]),\n",
       " ([5.7, 2.5, 5.0, 2.0], [0, 0, 1]),\n",
       " ([5.8, 2.8, 5.1, 2.4], [0, 0, 1]),\n",
       " ([6.4, 3.2, 5.3, 2.3], [0, 0, 1]),\n",
       " ([6.5, 3.0, 5.5, 1.8], [0, 0, 1]),\n",
       " ([7.7, 3.8, 6.7, 2.2], [0, 0, 1]),\n",
       " ([7.7, 2.6, 6.9, 2.3], [0, 0, 1]),\n",
       " ([6.0, 2.2, 5.0, 1.5], [0, 0, 1]),\n",
       " ([6.9, 3.2, 5.7, 2.3], [0, 0, 1]),\n",
       " ([5.6, 2.8, 4.9, 2.0], [0, 0, 1]),\n",
       " ([7.7, 2.8, 6.7, 2.0], [0, 0, 1]),\n",
       " ([6.3, 2.7, 4.9, 1.8], [0, 0, 1]),\n",
       " ([6.7, 3.3, 5.7, 2.1], [0, 0, 1]),\n",
       " ([7.2, 3.2, 6.0, 1.8], [0, 0, 1]),\n",
       " ([6.2, 2.8, 4.8, 1.8], [0, 0, 1]),\n",
       " ([6.1, 3.0, 4.9, 1.8], [0, 0, 1]),\n",
       " ([6.4, 2.8, 5.6, 2.1], [0, 0, 1]),\n",
       " ([7.2, 3.0, 5.8, 1.6], [0, 0, 1]),\n",
       " ([7.4, 2.8, 6.1, 1.9], [0, 0, 1]),\n",
       " ([7.9, 3.8, 6.4, 2.0], [0, 0, 1]),\n",
       " ([6.4, 2.8, 5.6, 2.2], [0, 0, 1]),\n",
       " ([6.3, 2.8, 5.1, 1.5], [0, 0, 1]),\n",
       " ([6.1, 2.6, 5.6, 1.4], [0, 0, 1]),\n",
       " ([7.7, 3.0, 6.1, 2.3], [0, 0, 1]),\n",
       " ([6.3, 3.4, 5.6, 2.4], [0, 0, 1]),\n",
       " ([6.4, 3.1, 5.5, 1.8], [0, 0, 1]),\n",
       " ([6.0, 3.0, 4.8, 1.8], [0, 0, 1]),\n",
       " ([6.9, 3.1, 5.4, 2.1], [0, 0, 1]),\n",
       " ([6.7, 3.1, 5.6, 2.4], [0, 0, 1]),\n",
       " ([6.9, 3.1, 5.1, 2.3], [0, 0, 1]),\n",
       " ([5.8, 2.7, 5.1, 1.9], [0, 0, 1]),\n",
       " ([6.8, 3.2, 5.9, 2.3], [0, 0, 1]),\n",
       " ([6.7, 3.3, 5.7, 2.5], [0, 0, 1]),\n",
       " ([6.7, 3.0, 5.2, 2.3], [0, 0, 1]),\n",
       " ([6.3, 2.5, 5.0, 1.9], [0, 0, 1]),\n",
       " ([6.5, 3.0, 5.2, 2.0], [0, 0, 1]),\n",
       " ([6.2, 3.4, 5.4, 2.3], [0, 0, 1]),\n",
       " ([5.9, 3.0, 5.1, 1.8], [0, 0, 1])]"
      ]
     },
     "execution_count": 53,
     "metadata": {},
     "output_type": "execute_result"
    }
   ],
   "source": [
    "data"
   ]
  },
  {
   "cell_type": "code",
   "execution_count": 54,
   "metadata": {},
   "outputs": [],
   "source": [
    "input = np.array([x for x, y in data])\n",
    "output = np.array([y for x, y in data])\n",
    "y_out = np.array([int(np.argmax(y)) for y in output])"
   ]
  },
  {
   "cell_type": "code",
   "execution_count": 55,
   "metadata": {},
   "outputs": [],
   "source": [
    "kdm_model.init_components(np.array(input), np.array(output),\n",
    "                                init_sigma=True, sigma_mult=0.5, super_index=0, index=0)"
   ]
  },
  {
   "cell_type": "code",
   "execution_count": 56,
   "metadata": {},
   "outputs": [
    {
     "data": {
      "text/plain": [
       "array([0, 0, 0, 0, 0, 0, 0, 0, 0, 0, 0, 0, 0, 0, 0, 0, 0, 0, 0, 0, 0, 0,\n",
       "       0, 0, 0, 0, 0, 0, 0, 0, 0, 0, 0, 0, 0, 0, 0, 0, 0, 0, 0, 0, 0, 0,\n",
       "       0, 0, 0, 0, 0, 0, 1, 1, 1, 1, 1, 1, 1, 1, 1, 1, 1, 1, 1, 1, 1, 1,\n",
       "       1, 1, 1, 1, 1, 1, 1, 1, 1, 1, 1, 1, 1, 1, 1, 1, 1, 1, 1, 1, 1, 1,\n",
       "       1, 1, 1, 1, 1, 1, 1, 1, 1, 1, 1, 1, 2, 2, 2, 2, 2, 2, 2, 2, 2, 2,\n",
       "       2, 2, 2, 2, 2, 2, 2, 2, 2, 2, 2, 2, 2, 2, 2, 2, 2, 2, 2, 2, 2, 2,\n",
       "       2, 2, 2, 2, 2, 2, 2, 2, 2, 2, 2, 2, 2, 2, 2, 2, 2, 2])"
      ]
     },
     "execution_count": 56,
     "metadata": {},
     "output_type": "execute_result"
    }
   ],
   "source": [
    "y_out"
   ]
  },
  {
   "cell_type": "code",
   "execution_count": 57,
   "metadata": {},
   "outputs": [
    {
     "data": {
      "text/plain": [
       "array([[5.1, 3.5, 1.4, 0.2],\n",
       "       [4.9, 3. , 1.4, 0.2],\n",
       "       [4.7, 3.2, 1.3, 0.2],\n",
       "       [4.6, 3.1, 1.5, 0.2],\n",
       "       [5. , 3.6, 1.4, 0.2],\n",
       "       [5.4, 3.9, 1.7, 0.4],\n",
       "       [4.6, 3.4, 1.4, 0.3],\n",
       "       [5. , 3.4, 1.5, 0.2],\n",
       "       [4.4, 2.9, 1.4, 0.2],\n",
       "       [4.9, 3.1, 1.5, 0.1],\n",
       "       [5.4, 3.7, 1.5, 0.2],\n",
       "       [4.8, 3.4, 1.6, 0.2],\n",
       "       [4.8, 3. , 1.4, 0.1],\n",
       "       [4.3, 3. , 1.1, 0.1],\n",
       "       [5.8, 4. , 1.2, 0.2],\n",
       "       [5.7, 4.4, 1.5, 0.4],\n",
       "       [5.4, 3.9, 1.3, 0.4],\n",
       "       [5.1, 3.5, 1.4, 0.3],\n",
       "       [5.7, 3.8, 1.7, 0.3],\n",
       "       [5.1, 3.8, 1.5, 0.3],\n",
       "       [5.4, 3.4, 1.7, 0.2],\n",
       "       [5.1, 3.7, 1.5, 0.4],\n",
       "       [4.6, 3.6, 1. , 0.2],\n",
       "       [5.1, 3.3, 1.7, 0.5],\n",
       "       [4.8, 3.4, 1.9, 0.2],\n",
       "       [5. , 3. , 1.6, 0.2],\n",
       "       [5. , 3.4, 1.6, 0.4],\n",
       "       [5.2, 3.5, 1.5, 0.2],\n",
       "       [5.2, 3.4, 1.4, 0.2],\n",
       "       [4.7, 3.2, 1.6, 0.2],\n",
       "       [4.8, 3.1, 1.6, 0.2],\n",
       "       [5.4, 3.4, 1.5, 0.4],\n",
       "       [5.2, 4.1, 1.5, 0.1],\n",
       "       [5.5, 4.2, 1.4, 0.2],\n",
       "       [4.9, 3.1, 1.5, 0.1],\n",
       "       [5. , 3.2, 1.2, 0.2],\n",
       "       [5.5, 3.5, 1.3, 0.2],\n",
       "       [4.9, 3.1, 1.5, 0.1],\n",
       "       [4.4, 3. , 1.3, 0.2],\n",
       "       [5.1, 3.4, 1.5, 0.2],\n",
       "       [5. , 3.5, 1.3, 0.3],\n",
       "       [4.5, 2.3, 1.3, 0.3],\n",
       "       [4.4, 3.2, 1.3, 0.2],\n",
       "       [5. , 3.5, 1.6, 0.6],\n",
       "       [5.1, 3.8, 1.9, 0.4],\n",
       "       [4.8, 3. , 1.4, 0.3],\n",
       "       [5.1, 3.8, 1.6, 0.2],\n",
       "       [4.6, 3.2, 1.4, 0.2],\n",
       "       [5.3, 3.7, 1.5, 0.2],\n",
       "       [5. , 3.3, 1.4, 0.2],\n",
       "       [7. , 3.2, 4.7, 1.4],\n",
       "       [6.4, 3.2, 4.5, 1.5],\n",
       "       [6.9, 3.1, 4.9, 1.5],\n",
       "       [5.5, 2.3, 4. , 1.3],\n",
       "       [6.5, 2.8, 4.6, 1.5],\n",
       "       [5.7, 2.8, 4.5, 1.3],\n",
       "       [6.3, 3.3, 4.7, 1.6],\n",
       "       [4.9, 2.4, 3.3, 1. ],\n",
       "       [6.6, 2.9, 4.6, 1.3],\n",
       "       [5.2, 2.7, 3.9, 1.4],\n",
       "       [5. , 2. , 3.5, 1. ],\n",
       "       [5.9, 3. , 4.2, 1.5],\n",
       "       [6. , 2.2, 4. , 1. ],\n",
       "       [6.1, 2.9, 4.7, 1.4],\n",
       "       [5.6, 2.9, 3.6, 1.3],\n",
       "       [6.7, 3.1, 4.4, 1.4],\n",
       "       [5.6, 3. , 4.5, 1.5],\n",
       "       [5.8, 2.7, 4.1, 1. ],\n",
       "       [6.2, 2.2, 4.5, 1.5],\n",
       "       [5.6, 2.5, 3.9, 1.1],\n",
       "       [5.9, 3.2, 4.8, 1.8],\n",
       "       [6.1, 2.8, 4. , 1.3],\n",
       "       [6.3, 2.5, 4.9, 1.5],\n",
       "       [6.1, 2.8, 4.7, 1.2],\n",
       "       [6.4, 2.9, 4.3, 1.3],\n",
       "       [6.6, 3. , 4.4, 1.4],\n",
       "       [6.8, 2.8, 4.8, 1.4],\n",
       "       [6.7, 3. , 5. , 1.7],\n",
       "       [6. , 2.9, 4.5, 1.5],\n",
       "       [5.7, 2.6, 3.5, 1. ],\n",
       "       [5.5, 2.4, 3.8, 1.1],\n",
       "       [5.5, 2.4, 3.7, 1. ],\n",
       "       [5.8, 2.7, 3.9, 1.2],\n",
       "       [6. , 2.7, 5.1, 1.6],\n",
       "       [5.4, 3. , 4.5, 1.5],\n",
       "       [6. , 3.4, 4.5, 1.6],\n",
       "       [6.7, 3.1, 4.7, 1.5],\n",
       "       [6.3, 2.3, 4.4, 1.3],\n",
       "       [5.6, 3. , 4.1, 1.3],\n",
       "       [5.5, 2.5, 4. , 1.3],\n",
       "       [5.5, 2.6, 4.4, 1.2],\n",
       "       [6.1, 3. , 4.6, 1.4],\n",
       "       [5.8, 2.6, 4. , 1.2],\n",
       "       [5. , 2.3, 3.3, 1. ],\n",
       "       [5.6, 2.7, 4.2, 1.3],\n",
       "       [5.7, 3. , 4.2, 1.2],\n",
       "       [5.7, 2.9, 4.2, 1.3],\n",
       "       [6.2, 2.9, 4.3, 1.3],\n",
       "       [5.1, 2.5, 3. , 1.1],\n",
       "       [5.7, 2.8, 4.1, 1.3],\n",
       "       [6.3, 3.3, 6. , 2.5],\n",
       "       [5.8, 2.7, 5.1, 1.9],\n",
       "       [7.1, 3. , 5.9, 2.1],\n",
       "       [6.3, 2.9, 5.6, 1.8],\n",
       "       [6.5, 3. , 5.8, 2.2],\n",
       "       [7.6, 3. , 6.6, 2.1],\n",
       "       [4.9, 2.5, 4.5, 1.7],\n",
       "       [7.3, 2.9, 6.3, 1.8],\n",
       "       [6.7, 2.5, 5.8, 1.8],\n",
       "       [7.2, 3.6, 6.1, 2.5],\n",
       "       [6.5, 3.2, 5.1, 2. ],\n",
       "       [6.4, 2.7, 5.3, 1.9],\n",
       "       [6.8, 3. , 5.5, 2.1],\n",
       "       [5.7, 2.5, 5. , 2. ],\n",
       "       [5.8, 2.8, 5.1, 2.4],\n",
       "       [6.4, 3.2, 5.3, 2.3],\n",
       "       [6.5, 3. , 5.5, 1.8],\n",
       "       [7.7, 3.8, 6.7, 2.2],\n",
       "       [7.7, 2.6, 6.9, 2.3],\n",
       "       [6. , 2.2, 5. , 1.5],\n",
       "       [6.9, 3.2, 5.7, 2.3],\n",
       "       [5.6, 2.8, 4.9, 2. ],\n",
       "       [7.7, 2.8, 6.7, 2. ],\n",
       "       [6.3, 2.7, 4.9, 1.8],\n",
       "       [6.7, 3.3, 5.7, 2.1],\n",
       "       [7.2, 3.2, 6. , 1.8],\n",
       "       [6.2, 2.8, 4.8, 1.8],\n",
       "       [6.1, 3. , 4.9, 1.8],\n",
       "       [6.4, 2.8, 5.6, 2.1],\n",
       "       [7.2, 3. , 5.8, 1.6],\n",
       "       [7.4, 2.8, 6.1, 1.9],\n",
       "       [7.9, 3.8, 6.4, 2. ],\n",
       "       [6.4, 2.8, 5.6, 2.2],\n",
       "       [6.3, 2.8, 5.1, 1.5],\n",
       "       [6.1, 2.6, 5.6, 1.4],\n",
       "       [7.7, 3. , 6.1, 2.3],\n",
       "       [6.3, 3.4, 5.6, 2.4],\n",
       "       [6.4, 3.1, 5.5, 1.8],\n",
       "       [6. , 3. , 4.8, 1.8],\n",
       "       [6.9, 3.1, 5.4, 2.1],\n",
       "       [6.7, 3.1, 5.6, 2.4],\n",
       "       [6.9, 3.1, 5.1, 2.3],\n",
       "       [5.8, 2.7, 5.1, 1.9],\n",
       "       [6.8, 3.2, 5.9, 2.3],\n",
       "       [6.7, 3.3, 5.7, 2.5],\n",
       "       [6.7, 3. , 5.2, 2.3],\n",
       "       [6.3, 2.5, 5. , 1.9],\n",
       "       [6.5, 3. , 5.2, 2. ],\n",
       "       [6.2, 3.4, 5.4, 2.3],\n",
       "       [5.9, 3. , 5.1, 1.8]])"
      ]
     },
     "execution_count": 57,
     "metadata": {},
     "output_type": "execute_result"
    }
   ],
   "source": [
    "input"
   ]
  },
  {
   "cell_type": "code",
   "execution_count": 58,
   "metadata": {},
   "outputs": [
    {
     "name": "stdout",
     "output_type": "stream",
     "text": [
      "\u001b[1m5/5\u001b[0m \u001b[32m━━━━━━━━━━━━━━━━━━━━\u001b[0m\u001b[37m\u001b[0m \u001b[1m0s\u001b[0m 1ms/step - loss: 0.1650 - sparse_categorical_accuracy: 0.9618  \n"
     ]
    }
   ],
   "source": [
    "check_1 = kdm_model.evaluate(np.array(input), np.array(y_out))\n"
   ]
  },
  {
   "cell_type": "code",
   "execution_count": 59,
   "metadata": {},
   "outputs": [
    {
     "name": "stdout",
     "output_type": "stream",
     "text": [
      "Full Dataset loss: 0.24461616575717926\n",
      "Full Dataset accuracy: 0.9399999976158142\n"
     ]
    }
   ],
   "source": [
    "\n",
    "print('Full Dataset loss:', check_1[0])\n",
    "print('Full Dataset accuracy:', check_1[1])"
   ]
  },
  {
   "cell_type": "markdown",
   "metadata": {},
   "source": [
    "## Training Power"
   ]
  },
  {
   "cell_type": "code",
   "execution_count": 90,
   "metadata": {},
   "outputs": [
    {
     "name": "stderr",
     "output_type": "stream",
     "text": [
      "/var/folders/2s/yq898nms72b5qxqbwz_hx8j80000gn/T/ipykernel_12702/2480946680.py:1: VisibleDeprecationWarning: Creating an ndarray from ragged nested sequences (which is a list-or-tuple of lists-or-tuples-or ndarrays with different lengths or shapes) is deprecated. If you meant to do this, you must specify 'dtype=object' when creating the ndarray.\n",
      "  combined_y = np.array([[int(np.argmax(y)), y] for y in output])\n"
     ]
    }
   ],
   "source": [
    "combined_y = np.array([[int(np.argmax(y)), y] for y in output])"
   ]
  },
  {
   "cell_type": "code",
   "execution_count": 91,
   "metadata": {},
   "outputs": [
    {
     "data": {
      "text/plain": [
       "array([[0, array([1, 0, 0])],\n",
       "       [0, array([1, 0, 0])],\n",
       "       [0, array([1, 0, 0])],\n",
       "       [0, array([1, 0, 0])],\n",
       "       [0, array([1, 0, 0])],\n",
       "       [0, array([1, 0, 0])],\n",
       "       [0, array([1, 0, 0])],\n",
       "       [0, array([1, 0, 0])],\n",
       "       [0, array([1, 0, 0])],\n",
       "       [0, array([1, 0, 0])],\n",
       "       [0, array([1, 0, 0])],\n",
       "       [0, array([1, 0, 0])],\n",
       "       [0, array([1, 0, 0])],\n",
       "       [0, array([1, 0, 0])],\n",
       "       [0, array([1, 0, 0])],\n",
       "       [0, array([1, 0, 0])],\n",
       "       [0, array([1, 0, 0])],\n",
       "       [0, array([1, 0, 0])],\n",
       "       [0, array([1, 0, 0])],\n",
       "       [0, array([1, 0, 0])],\n",
       "       [0, array([1, 0, 0])],\n",
       "       [0, array([1, 0, 0])],\n",
       "       [0, array([1, 0, 0])],\n",
       "       [0, array([1, 0, 0])],\n",
       "       [0, array([1, 0, 0])],\n",
       "       [0, array([1, 0, 0])],\n",
       "       [0, array([1, 0, 0])],\n",
       "       [0, array([1, 0, 0])],\n",
       "       [0, array([1, 0, 0])],\n",
       "       [0, array([1, 0, 0])],\n",
       "       [0, array([1, 0, 0])],\n",
       "       [0, array([1, 0, 0])],\n",
       "       [0, array([1, 0, 0])],\n",
       "       [0, array([1, 0, 0])],\n",
       "       [0, array([1, 0, 0])],\n",
       "       [0, array([1, 0, 0])],\n",
       "       [0, array([1, 0, 0])],\n",
       "       [0, array([1, 0, 0])],\n",
       "       [0, array([1, 0, 0])],\n",
       "       [0, array([1, 0, 0])],\n",
       "       [0, array([1, 0, 0])],\n",
       "       [0, array([1, 0, 0])],\n",
       "       [0, array([1, 0, 0])],\n",
       "       [0, array([1, 0, 0])],\n",
       "       [0, array([1, 0, 0])],\n",
       "       [0, array([1, 0, 0])],\n",
       "       [0, array([1, 0, 0])],\n",
       "       [0, array([1, 0, 0])],\n",
       "       [0, array([1, 0, 0])],\n",
       "       [0, array([1, 0, 0])],\n",
       "       [1, array([0, 1, 0])],\n",
       "       [1, array([0, 1, 0])],\n",
       "       [1, array([0, 1, 0])],\n",
       "       [1, array([0, 1, 0])],\n",
       "       [1, array([0, 1, 0])],\n",
       "       [1, array([0, 1, 0])],\n",
       "       [1, array([0, 1, 0])],\n",
       "       [1, array([0, 1, 0])],\n",
       "       [1, array([0, 1, 0])],\n",
       "       [1, array([0, 1, 0])],\n",
       "       [1, array([0, 1, 0])],\n",
       "       [1, array([0, 1, 0])],\n",
       "       [1, array([0, 1, 0])],\n",
       "       [1, array([0, 1, 0])],\n",
       "       [1, array([0, 1, 0])],\n",
       "       [1, array([0, 1, 0])],\n",
       "       [1, array([0, 1, 0])],\n",
       "       [1, array([0, 1, 0])],\n",
       "       [1, array([0, 1, 0])],\n",
       "       [1, array([0, 1, 0])],\n",
       "       [1, array([0, 1, 0])],\n",
       "       [1, array([0, 1, 0])],\n",
       "       [1, array([0, 1, 0])],\n",
       "       [1, array([0, 1, 0])],\n",
       "       [1, array([0, 1, 0])],\n",
       "       [1, array([0, 1, 0])],\n",
       "       [1, array([0, 1, 0])],\n",
       "       [1, array([0, 1, 0])],\n",
       "       [1, array([0, 1, 0])],\n",
       "       [1, array([0, 1, 0])],\n",
       "       [1, array([0, 1, 0])],\n",
       "       [1, array([0, 1, 0])],\n",
       "       [1, array([0, 1, 0])],\n",
       "       [1, array([0, 1, 0])],\n",
       "       [1, array([0, 1, 0])],\n",
       "       [1, array([0, 1, 0])],\n",
       "       [1, array([0, 1, 0])],\n",
       "       [1, array([0, 1, 0])],\n",
       "       [1, array([0, 1, 0])],\n",
       "       [1, array([0, 1, 0])],\n",
       "       [1, array([0, 1, 0])],\n",
       "       [1, array([0, 1, 0])],\n",
       "       [1, array([0, 1, 0])],\n",
       "       [1, array([0, 1, 0])],\n",
       "       [1, array([0, 1, 0])],\n",
       "       [1, array([0, 1, 0])],\n",
       "       [1, array([0, 1, 0])],\n",
       "       [1, array([0, 1, 0])],\n",
       "       [1, array([0, 1, 0])],\n",
       "       [1, array([0, 1, 0])],\n",
       "       [2, array([0, 0, 1])],\n",
       "       [2, array([0, 0, 1])],\n",
       "       [2, array([0, 0, 1])],\n",
       "       [2, array([0, 0, 1])],\n",
       "       [2, array([0, 0, 1])],\n",
       "       [2, array([0, 0, 1])],\n",
       "       [2, array([0, 0, 1])],\n",
       "       [2, array([0, 0, 1])],\n",
       "       [2, array([0, 0, 1])],\n",
       "       [2, array([0, 0, 1])],\n",
       "       [2, array([0, 0, 1])],\n",
       "       [2, array([0, 0, 1])],\n",
       "       [2, array([0, 0, 1])],\n",
       "       [2, array([0, 0, 1])],\n",
       "       [2, array([0, 0, 1])],\n",
       "       [2, array([0, 0, 1])],\n",
       "       [2, array([0, 0, 1])],\n",
       "       [2, array([0, 0, 1])],\n",
       "       [2, array([0, 0, 1])],\n",
       "       [2, array([0, 0, 1])],\n",
       "       [2, array([0, 0, 1])],\n",
       "       [2, array([0, 0, 1])],\n",
       "       [2, array([0, 0, 1])],\n",
       "       [2, array([0, 0, 1])],\n",
       "       [2, array([0, 0, 1])],\n",
       "       [2, array([0, 0, 1])],\n",
       "       [2, array([0, 0, 1])],\n",
       "       [2, array([0, 0, 1])],\n",
       "       [2, array([0, 0, 1])],\n",
       "       [2, array([0, 0, 1])],\n",
       "       [2, array([0, 0, 1])],\n",
       "       [2, array([0, 0, 1])],\n",
       "       [2, array([0, 0, 1])],\n",
       "       [2, array([0, 0, 1])],\n",
       "       [2, array([0, 0, 1])],\n",
       "       [2, array([0, 0, 1])],\n",
       "       [2, array([0, 0, 1])],\n",
       "       [2, array([0, 0, 1])],\n",
       "       [2, array([0, 0, 1])],\n",
       "       [2, array([0, 0, 1])],\n",
       "       [2, array([0, 0, 1])],\n",
       "       [2, array([0, 0, 1])],\n",
       "       [2, array([0, 0, 1])],\n",
       "       [2, array([0, 0, 1])],\n",
       "       [2, array([0, 0, 1])],\n",
       "       [2, array([0, 0, 1])],\n",
       "       [2, array([0, 0, 1])],\n",
       "       [2, array([0, 0, 1])],\n",
       "       [2, array([0, 0, 1])],\n",
       "       [2, array([0, 0, 1])]], dtype=object)"
      ]
     },
     "execution_count": 91,
     "metadata": {},
     "output_type": "execute_result"
    }
   ],
   "source": [
    "combined_y"
   ]
  },
  {
   "cell_type": "code",
   "execution_count": 112,
   "metadata": {},
   "outputs": [],
   "source": [
    "X_train, X_test, y_train, y_test = train_test_split(\n",
    "    input, combined_y, test_size=0.4, random_state=42)"
   ]
  },
  {
   "cell_type": "code",
   "execution_count": 113,
   "metadata": {},
   "outputs": [
    {
     "name": "stdout",
     "output_type": "stream",
     "text": [
      "90\n"
     ]
    },
    {
     "data": {
      "text/plain": [
       "60"
      ]
     },
     "execution_count": 113,
     "metadata": {},
     "output_type": "execute_result"
    }
   ],
   "source": [
    "print(len(X_train))\n",
    "len(X_test)"
   ]
  },
  {
   "cell_type": "code",
   "execution_count": 123,
   "metadata": {},
   "outputs": [],
   "source": [
    "\n",
    "encoded_size = 4\n",
    "dim_y = 3\n",
    "encoder = keras.layers.Identity()\n",
    "n_comp = 90\n",
    "sequences = [\n",
    "    {\n",
    "        'type': 'merge'\n",
    "    }]\n",
    "kdm_model = KDMSequentialJointClassModel(encoded_size=encoded_size,\n",
    "                                         dim_y=dim_y,\n",
    "                                         encoder=encoder,\n",
    "                                         n_comp=n_comp,\n",
    "                                         sequences=sequences,\n",
    "                                         sigma=0.5)"
   ]
  },
  {
   "cell_type": "code",
   "execution_count": 125,
   "metadata": {},
   "outputs": [],
   "source": [
    "from tensorflow.keras import optimizers, losses\n",
    "\n",
    "kdm_model.compile(optimizer=optimizers.Adam(learning_rate=5e-5),\n",
    "              loss=losses.sparse_categorical_crossentropy,\n",
    "              metrics=[metrics.sparse_categorical_accuracy,])\n"
   ]
  },
  {
   "cell_type": "code",
   "execution_count": 126,
   "metadata": {},
   "outputs": [],
   "source": [
    "real_out = np.array([y[1] for y in y_train])\n",
    "\n",
    "kdm_model.init_components(np.array(X_train), np.array(real_out),\n",
    "                                init_sigma=True, sigma_mult=0.5, super_index=0, index=0)"
   ]
  },
  {
   "cell_type": "code",
   "execution_count": 127,
   "metadata": {},
   "outputs": [
    {
     "name": "stdout",
     "output_type": "stream",
     "text": [
      "\u001b[1m5/5\u001b[0m \u001b[32m━━━━━━━━━━━━━━━━━━━━\u001b[0m\u001b[37m\u001b[0m \u001b[1m0s\u001b[0m 768us/step - loss: 0.1668 - sparse_categorical_accuracy: 0.9688\n"
     ]
    }
   ],
   "source": [
    "check_full = kdm_model.evaluate(np.array(input), np.array(y_out))"
   ]
  },
  {
   "cell_type": "code",
   "execution_count": 128,
   "metadata": {},
   "outputs": [
    {
     "name": "stdout",
     "output_type": "stream",
     "text": [
      "Full Dataset loss: 0.24101483821868896\n",
      "Full Dataset accuracy: 0.95333331823349\n"
     ]
    }
   ],
   "source": [
    "print('Full Dataset loss:', check_full[0])\n",
    "print('Full Dataset accuracy:', check_full[1])"
   ]
  },
  {
   "cell_type": "code",
   "execution_count": 129,
   "metadata": {},
   "outputs": [],
   "source": [
    "y_out_test = np.array([y[0] for y in y_test])"
   ]
  },
  {
   "cell_type": "code",
   "execution_count": 130,
   "metadata": {},
   "outputs": [
    {
     "name": "stdout",
     "output_type": "stream",
     "text": [
      "\u001b[1m2/2\u001b[0m \u001b[32m━━━━━━━━━━━━━━━━━━━━\u001b[0m\u001b[37m\u001b[0m \u001b[1m0s\u001b[0m 3ms/step - loss: 0.2078 - sparse_categorical_accuracy: 1.0000 \n"
     ]
    }
   ],
   "source": [
    "check_test = kdm_model.evaluate(np.array(X_test), np.array(y_out_test))"
   ]
  },
  {
   "cell_type": "code",
   "execution_count": 131,
   "metadata": {},
   "outputs": [
    {
     "name": "stdout",
     "output_type": "stream",
     "text": [
      "Test Dataset loss: 0.20930203795433044\n",
      "Test Dataset accuracy: 1.0\n"
     ]
    }
   ],
   "source": [
    "print('Test Dataset loss:', check_test[0])\n",
    "print('Test Dataset accuracy:', check_test[1])"
   ]
  }
 ],
 "metadata": {
  "kernelspec": {
   "display_name": "Python 3",
   "language": "python",
   "name": "python3"
  },
  "language_info": {
   "codemirror_mode": {
    "name": "ipython",
    "version": 3
   },
   "file_extension": ".py",
   "mimetype": "text/x-python",
   "name": "python",
   "nbconvert_exporter": "python",
   "pygments_lexer": "ipython3",
   "version": "3.10.12"
  }
 },
 "nbformat": 4,
 "nbformat_minor": 2
}
